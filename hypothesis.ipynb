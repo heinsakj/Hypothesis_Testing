{
 "cells": [
  {
   "cell_type": "markdown",
   "metadata": {},
   "source": [
    "# Before you start:\n",
    "- Read the README.md file\n",
    "- Comment as much as you can and use the resources (README.md file)\n",
    "- Happy learning!"
   ]
  },
  {
   "cell_type": "code",
   "execution_count": 1,
   "metadata": {},
   "outputs": [],
   "source": [
    "# import numpy and pandas\n",
    "import numpy as np\n",
    "import pandas as pd\n",
    "import scipy.stats\n",
    "from scipy.stats import ttest_1samp"
   ]
  },
  {
   "cell_type": "markdown",
   "metadata": {},
   "source": [
    "# Challenge 1 - Exploring the Data\n",
    "\n",
    "In this challenge, we will examine all salaries of employees of the City of Chicago. We will start by loading the dataset and examining its contents. "
   ]
  },
  {
   "cell_type": "code",
   "execution_count": 2,
   "metadata": {},
   "outputs": [],
   "source": [
    "# Your code here:\n",
    "salaries = pd.read_csv('Current_Employee_Names__Salaries__and_Position_Titles.csv')"
   ]
  },
  {
   "cell_type": "markdown",
   "metadata": {},
   "source": [
    "Examine the `salaries` dataset using the `head` function below."
   ]
  },
  {
   "cell_type": "code",
   "execution_count": 3,
   "metadata": {},
   "outputs": [
    {
     "data": {
      "text/html": [
       "<div>\n",
       "<style scoped>\n",
       "    .dataframe tbody tr th:only-of-type {\n",
       "        vertical-align: middle;\n",
       "    }\n",
       "\n",
       "    .dataframe tbody tr th {\n",
       "        vertical-align: top;\n",
       "    }\n",
       "\n",
       "    .dataframe thead th {\n",
       "        text-align: right;\n",
       "    }\n",
       "</style>\n",
       "<table border=\"1\" class=\"dataframe\">\n",
       "  <thead>\n",
       "    <tr style=\"text-align: right;\">\n",
       "      <th></th>\n",
       "      <th>Name</th>\n",
       "      <th>Job Titles</th>\n",
       "      <th>Department</th>\n",
       "      <th>Full or Part-Time</th>\n",
       "      <th>Salary or Hourly</th>\n",
       "      <th>Typical Hours</th>\n",
       "      <th>Annual Salary</th>\n",
       "      <th>Hourly Rate</th>\n",
       "    </tr>\n",
       "  </thead>\n",
       "  <tbody>\n",
       "    <tr>\n",
       "      <th>0</th>\n",
       "      <td>ADRIANO,  RACQUEL ANNE</td>\n",
       "      <td>PARAMEDIC</td>\n",
       "      <td>FIRE</td>\n",
       "      <td>F</td>\n",
       "      <td>Salary</td>\n",
       "      <td>NaN</td>\n",
       "      <td>72510.0</td>\n",
       "      <td>NaN</td>\n",
       "    </tr>\n",
       "    <tr>\n",
       "      <th>1</th>\n",
       "      <td>AFFANEH,  MAHIR A</td>\n",
       "      <td>POLICE OFFICER</td>\n",
       "      <td>POLICE</td>\n",
       "      <td>F</td>\n",
       "      <td>Salary</td>\n",
       "      <td>NaN</td>\n",
       "      <td>93354.0</td>\n",
       "      <td>NaN</td>\n",
       "    </tr>\n",
       "    <tr>\n",
       "      <th>2</th>\n",
       "      <td>AFOENYI,  PHYLLIS</td>\n",
       "      <td>TITLE V PROGRAM TRAINEE I</td>\n",
       "      <td>FAMILY &amp; SUPPORT</td>\n",
       "      <td>P</td>\n",
       "      <td>Hourly</td>\n",
       "      <td>20.0</td>\n",
       "      <td>NaN</td>\n",
       "      <td>13.0</td>\n",
       "    </tr>\n",
       "    <tr>\n",
       "      <th>3</th>\n",
       "      <td>AGAR,  BULENT B</td>\n",
       "      <td>DEPUTY COMMISSIONER</td>\n",
       "      <td>WATER MGMNT</td>\n",
       "      <td>F</td>\n",
       "      <td>Salary</td>\n",
       "      <td>NaN</td>\n",
       "      <td>132972.0</td>\n",
       "      <td>NaN</td>\n",
       "    </tr>\n",
       "    <tr>\n",
       "      <th>4</th>\n",
       "      <td>AGEE,  LAWRENCE</td>\n",
       "      <td>POLICE OFFICER</td>\n",
       "      <td>POLICE</td>\n",
       "      <td>F</td>\n",
       "      <td>Salary</td>\n",
       "      <td>NaN</td>\n",
       "      <td>90024.0</td>\n",
       "      <td>NaN</td>\n",
       "    </tr>\n",
       "  </tbody>\n",
       "</table>\n",
       "</div>"
      ],
      "text/plain": [
       "                     Name                 Job Titles        Department  \\\n",
       "0  ADRIANO,  RACQUEL ANNE                  PARAMEDIC              FIRE   \n",
       "1       AFFANEH,  MAHIR A             POLICE OFFICER            POLICE   \n",
       "2       AFOENYI,  PHYLLIS  TITLE V PROGRAM TRAINEE I  FAMILY & SUPPORT   \n",
       "3         AGAR,  BULENT B        DEPUTY COMMISSIONER       WATER MGMNT   \n",
       "4         AGEE,  LAWRENCE             POLICE OFFICER            POLICE   \n",
       "\n",
       "  Full or Part-Time Salary or Hourly  Typical Hours  Annual Salary  \\\n",
       "0                 F           Salary            NaN        72510.0   \n",
       "1                 F           Salary            NaN        93354.0   \n",
       "2                 P           Hourly           20.0            NaN   \n",
       "3                 F           Salary            NaN       132972.0   \n",
       "4                 F           Salary            NaN        90024.0   \n",
       "\n",
       "   Hourly Rate  \n",
       "0          NaN  \n",
       "1          NaN  \n",
       "2         13.0  \n",
       "3          NaN  \n",
       "4          NaN  "
      ]
     },
     "metadata": {},
     "output_type": "display_data"
    },
    {
     "data": {
      "text/plain": [
       "(33702, 8)"
      ]
     },
     "metadata": {},
     "output_type": "display_data"
    },
    {
     "name": "stdout",
     "output_type": "stream",
     "text": [
      "<class 'pandas.core.frame.DataFrame'>\n",
      "RangeIndex: 33702 entries, 0 to 33701\n",
      "Data columns (total 8 columns):\n",
      " #   Column             Non-Null Count  Dtype  \n",
      "---  ------             --------------  -----  \n",
      " 0   Name               33702 non-null  object \n",
      " 1   Job Titles         33702 non-null  object \n",
      " 2   Department         33702 non-null  object \n",
      " 3   Full or Part-Time  33702 non-null  object \n",
      " 4   Salary or Hourly   33702 non-null  object \n",
      " 5   Typical Hours      8174 non-null   float64\n",
      " 6   Annual Salary      25528 non-null  float64\n",
      " 7   Hourly Rate        8174 non-null   float64\n",
      "dtypes: float64(3), object(5)\n",
      "memory usage: 2.1+ MB\n"
     ]
    }
   ],
   "source": [
    "# Your code here:\n",
    "display(salaries.head())\n",
    "display(salaries.shape)\n",
    "salaries.info()"
   ]
  },
  {
   "cell_type": "markdown",
   "metadata": {},
   "source": [
    "We see from looking at the `head` function that there is quite a bit of missing data. Let's examine how much missing data is in each column. Produce this output in the cell below"
   ]
  },
  {
   "cell_type": "code",
   "execution_count": 4,
   "metadata": {},
   "outputs": [
    {
     "data": {
      "text/plain": [
       "Name                     0\n",
       "Job Titles               0\n",
       "Department               0\n",
       "Full or Part-Time        0\n",
       "Salary or Hourly         0\n",
       "Typical Hours        25528\n",
       "Annual Salary         8174\n",
       "Hourly Rate          25528\n",
       "dtype: int64"
      ]
     },
     "metadata": {},
     "output_type": "display_data"
    },
    {
     "data": {
      "text/plain": [
       "Name                 0.000000\n",
       "Job Titles           0.000000\n",
       "Department           0.000000\n",
       "Full or Part-Time    0.000000\n",
       "Salary or Hourly     0.000000\n",
       "Typical Hours        0.757462\n",
       "Annual Salary        0.242538\n",
       "Hourly Rate          0.757462\n",
       "dtype: float64"
      ]
     },
     "execution_count": 4,
     "metadata": {},
     "output_type": "execute_result"
    }
   ],
   "source": [
    "# Your code here:\n",
    "display(salaries.isna().sum())\n",
    "salaries.isna().sum()/len(salaries)"
   ]
  },
  {
   "cell_type": "markdown",
   "metadata": {},
   "source": [
    "###### Typical Hours and Hourly Rate are related to each other. Because we do not have any values there, there are some missing values in annual salary. We can also see that depending on whether or not someone is paid with a salary or hourly the column \"Annual Salary\" or \"Hourly Rate\" are filled."
   ]
  },
  {
   "cell_type": "markdown",
   "metadata": {},
   "source": [
    "Let's also look at the count of hourly vs. salaried employees. Write the code in the cell below"
   ]
  },
  {
   "cell_type": "code",
   "execution_count": 5,
   "metadata": {},
   "outputs": [
    {
     "data": {
      "text/plain": [
       "Salary    25528\n",
       "Hourly     8174\n",
       "Name: Salary or Hourly, dtype: int64"
      ]
     },
     "execution_count": 5,
     "metadata": {},
     "output_type": "execute_result"
    }
   ],
   "source": [
    "# Your code here:\n",
    "salaries['Salary or Hourly'].value_counts()\n"
   ]
  },
  {
   "cell_type": "markdown",
   "metadata": {},
   "source": [
    "What this information indicates is that the table contains information about two types of employees - salaried and hourly. Some columns apply only to one type of employee while other columns only apply to another kind. This is why there are so many missing values. Therefore, we will not do anything to handle the missing values."
   ]
  },
  {
   "cell_type": "markdown",
   "metadata": {},
   "source": [
    "There are different departments in the city. List all departments and the count of employees in each department."
   ]
  },
  {
   "cell_type": "code",
   "execution_count": 6,
   "metadata": {},
   "outputs": [
    {
     "data": {
      "text/plain": [
       "POLICE                 13848\n",
       "FIRE                    4627\n",
       "STREETS & SAN           2175\n",
       "WATER MGMNT             1914\n",
       "AVIATION                1856\n",
       "OEMC                    1737\n",
       "TRANSPORTN              1113\n",
       "PUBLIC LIBRARY          1088\n",
       "DAIS                    1033\n",
       "FAMILY & SUPPORT         656\n",
       "FINANCE                  544\n",
       "HEALTH                   467\n",
       "LAW                      398\n",
       "CITY COUNCIL             362\n",
       "BUILDINGS                258\n",
       "PUBLIC SAFETY ADMIN      244\n",
       "BUSINESS AFFAIRS         167\n",
       "HOUSING & ECON DEV       154\n",
       "COPA                     123\n",
       "BOARD OF ELECTION        111\n",
       "MAYOR'S OFFICE           104\n",
       "INSPECTOR GEN             95\n",
       "CITY CLERK                88\n",
       "PROCUREMENT               84\n",
       "HUMAN RESOURCES           75\n",
       "ANIMAL CONTRL             75\n",
       "CULTURAL AFFAIRS          74\n",
       "HOUSING                   66\n",
       "BUDGET & MGMT             44\n",
       "ADMIN HEARNG              38\n",
       "DISABILITIES              28\n",
       "TREASURER                 28\n",
       "HUMAN RELATIONS           17\n",
       "BOARD OF ETHICS            8\n",
       "POLICE BOARD               2\n",
       "LICENSE APPL COMM          1\n",
       "Name: Department, dtype: int64"
      ]
     },
     "execution_count": 6,
     "metadata": {},
     "output_type": "execute_result"
    }
   ],
   "source": [
    "# Your code here:\n",
    "salaries['Department'].value_counts()\n"
   ]
  },
  {
   "cell_type": "code",
   "execution_count": 7,
   "metadata": {},
   "outputs": [],
   "source": [
    "# Could merge the variable to the top 10 departments and then add \"other\"."
   ]
  },
  {
   "cell_type": "markdown",
   "metadata": {},
   "source": [
    "# Challenge 2 - Hypothesis Tests\n",
    "\n",
    "In this section of the lab, we will test whether the hourly wage of all hourly workers is significantly different from $30/hr. Import the correct one sample test function from scipy and perform the hypothesis test for a 95% two sided confidence interval."
   ]
  },
  {
   "cell_type": "code",
   "execution_count": 8,
   "metadata": {},
   "outputs": [],
   "source": [
    "# H0: wage of all hourly workers = 30\n",
    "# H1: wage of all hourly workers <> 30"
   ]
  },
  {
   "cell_type": "code",
   "execution_count": 84,
   "metadata": {},
   "outputs": [],
   "source": [
    "# Your code here:\n",
    "\n",
    "hourly_workers = np.random.normal(salaries['Hourly Rate'].mean(), salaries['Hourly Rate'].std(), 8174)\n",
    "#     targeted mean value         ^\n",
    "#  with a standard dev of              ^\n",
    "# number of random values to generate        ^"
   ]
  },
  {
   "cell_type": "code",
   "execution_count": 10,
   "metadata": {},
   "outputs": [
    {
     "data": {
      "text/plain": [
       "array([15.54564107, 23.96485421, 18.42216956, ..., 31.29184394,\n",
       "       30.45894038, 41.60457556])"
      ]
     },
     "execution_count": 10,
     "metadata": {},
     "output_type": "execute_result"
    }
   ],
   "source": [
    "hourly_workers"
   ]
  },
  {
   "cell_type": "code",
   "execution_count": 79,
   "metadata": {},
   "outputs": [
    {
     "name": "stdout",
     "output_type": "stream",
     "text": [
      "stat is   29.452849059167374\n",
      "pvalue for the one-tailed test is  2.670412551304623e-181\n"
     ]
    }
   ],
   "source": [
    "stat_all, pval_all = ttest_1samp(hourly_workers, 30)\n",
    "\n",
    "print('stat is  ', stat_all)\n",
    "print('pvalue for the one-tailed test is ', pval_all)"
   ]
  },
  {
   "cell_type": "code",
   "execution_count": 81,
   "metadata": {},
   "outputs": [
    {
     "name": "stdout",
     "output_type": "stream",
     "text": [
      "SOLUTION: p < α, significant proof that the wage for all hourly workers is different from $30/hr. Therefore reject H0\n"
     ]
    }
   ],
   "source": [
    "print(\"SOLUTION: p < α, significant proof that the wage for all hourly workers is different from $30/hr. Therefore reject H0\")"
   ]
  },
  {
   "cell_type": "markdown",
   "metadata": {},
   "source": [
    "We are also curious about salaries in the police force. The chief of police in Chicago claimed in a press briefing that salaries this year are higher than last year's mean of $86000/year a year for all salaried employees. Test this one sided hypothesis using a 95% confidence interval.\n",
    "\n",
    "Hint: A one tailed test has a p-value that is half of the two tailed p-value. If our hypothesis is greater than, then to reject, the test statistic must also be positive."
   ]
  },
  {
   "cell_type": "code",
   "execution_count": 13,
   "metadata": {},
   "outputs": [],
   "source": [
    "# H0: wage of all hourly workers <= 86000\n",
    "# H1: wage of all hourly workers > 86000"
   ]
  },
  {
   "cell_type": "code",
   "execution_count": 16,
   "metadata": {},
   "outputs": [
    {
     "data": {
      "text/plain": [
       "(13848, 8)"
      ]
     },
     "metadata": {},
     "output_type": "display_data"
    }
   ],
   "source": [
    "# Your code here:\n",
    "salaries_police = salaries[salaries['Department']=='POLICE']\n",
    "display(salaries_police.shape)\n",
    "salaries_police = np.random.normal(salaries_police['Annual Salary'].mean(), salaries_police['Annual Salary'].std(), 13848)"
   ]
  },
  {
   "cell_type": "code",
   "execution_count": 17,
   "metadata": {},
   "outputs": [
    {
     "name": "stdout",
     "output_type": "stream",
     "text": [
      "stat is   18.86923101991731\n",
      "pvalue for the one-tailed test is  9.815577803189736e-79\n"
     ]
    }
   ],
   "source": [
    "stat_police, pval_police = ttest_1samp(salaries_police, 86000)\n",
    "\n",
    "print('stat is  ', stat_police)\n",
    "print('pvalue for the one-tailed test is ', pval_police/2)"
   ]
  },
  {
   "cell_type": "code",
   "execution_count": 82,
   "metadata": {},
   "outputs": [
    {
     "name": "stdout",
     "output_type": "stream",
     "text": [
      "SOLUTION: We can reject the H0 hypothesis, we have strong evidence that the mean income for police forces this year is higher than last year's mean of $86000\n"
     ]
    }
   ],
   "source": [
    "print(\"SOLUTION: We can reject the H0 hypothesis, we have strong evidence that the mean income for police forces this year is higher than last year's mean of $86000\")"
   ]
  },
  {
   "cell_type": "markdown",
   "metadata": {},
   "source": [
    "Using the `crosstab` function, find the department that has the most hourly workers. "
   ]
  },
  {
   "cell_type": "code",
   "execution_count": 64,
   "metadata": {},
   "outputs": [
    {
     "data": {
      "text/html": [
       "<div>\n",
       "<style scoped>\n",
       "    .dataframe tbody tr th:only-of-type {\n",
       "        vertical-align: middle;\n",
       "    }\n",
       "\n",
       "    .dataframe tbody tr th {\n",
       "        vertical-align: top;\n",
       "    }\n",
       "\n",
       "    .dataframe thead th {\n",
       "        text-align: right;\n",
       "    }\n",
       "</style>\n",
       "<table border=\"1\" class=\"dataframe\">\n",
       "  <thead>\n",
       "    <tr style=\"text-align: right;\">\n",
       "      <th>Hourly Rate</th>\n",
       "      <th>2.65</th>\n",
       "      <th>8.25</th>\n",
       "      <th>9.74</th>\n",
       "      <th>10.0</th>\n",
       "      <th>10.5</th>\n",
       "      <th>12.0</th>\n",
       "      <th>13.0</th>\n",
       "      <th>13.4</th>\n",
       "      <th>13.45</th>\n",
       "      <th>13.94</th>\n",
       "      <th>...</th>\n",
       "      <th>53.4</th>\n",
       "      <th>53.91</th>\n",
       "      <th>54.05</th>\n",
       "      <th>54.1</th>\n",
       "      <th>55.1</th>\n",
       "      <th>57.04</th>\n",
       "      <th>58.4</th>\n",
       "      <th>61.65</th>\n",
       "      <th>128.0</th>\n",
       "      <th>All</th>\n",
       "    </tr>\n",
       "    <tr>\n",
       "      <th>Department</th>\n",
       "      <th></th>\n",
       "      <th></th>\n",
       "      <th></th>\n",
       "      <th></th>\n",
       "      <th></th>\n",
       "      <th></th>\n",
       "      <th></th>\n",
       "      <th></th>\n",
       "      <th></th>\n",
       "      <th></th>\n",
       "      <th></th>\n",
       "      <th></th>\n",
       "      <th></th>\n",
       "      <th></th>\n",
       "      <th></th>\n",
       "      <th></th>\n",
       "      <th></th>\n",
       "      <th></th>\n",
       "      <th></th>\n",
       "      <th></th>\n",
       "      <th></th>\n",
       "    </tr>\n",
       "  </thead>\n",
       "  <tbody>\n",
       "    <tr>\n",
       "      <th>All</th>\n",
       "      <td>260</td>\n",
       "      <td>4</td>\n",
       "      <td>2</td>\n",
       "      <td>2</td>\n",
       "      <td>1</td>\n",
       "      <td>16</td>\n",
       "      <td>62</td>\n",
       "      <td>107</td>\n",
       "      <td>1</td>\n",
       "      <td>49</td>\n",
       "      <td>...</td>\n",
       "      <td>48</td>\n",
       "      <td>1</td>\n",
       "      <td>30</td>\n",
       "      <td>24</td>\n",
       "      <td>12</td>\n",
       "      <td>68</td>\n",
       "      <td>10</td>\n",
       "      <td>1</td>\n",
       "      <td>1</td>\n",
       "      <td>8174</td>\n",
       "    </tr>\n",
       "    <tr>\n",
       "      <th>STREETS &amp; SAN</th>\n",
       "      <td>0</td>\n",
       "      <td>0</td>\n",
       "      <td>0</td>\n",
       "      <td>0</td>\n",
       "      <td>0</td>\n",
       "      <td>0</td>\n",
       "      <td>0</td>\n",
       "      <td>0</td>\n",
       "      <td>0</td>\n",
       "      <td>0</td>\n",
       "      <td>...</td>\n",
       "      <td>0</td>\n",
       "      <td>0</td>\n",
       "      <td>0</td>\n",
       "      <td>0</td>\n",
       "      <td>3</td>\n",
       "      <td>0</td>\n",
       "      <td>0</td>\n",
       "      <td>0</td>\n",
       "      <td>0</td>\n",
       "      <td>1846</td>\n",
       "    </tr>\n",
       "  </tbody>\n",
       "</table>\n",
       "<p>2 rows × 179 columns</p>\n",
       "</div>"
      ],
      "text/plain": [
       "Hourly Rate    2.65  8.25  9.74  10.0  10.5  12.0  13.0  13.4  13.45  13.94  \\\n",
       "Department                                                                    \n",
       "All             260     4     2     2     1    16    62   107      1     49   \n",
       "STREETS & SAN     0     0     0     0     0     0     0     0      0      0   \n",
       "\n",
       "Hourly Rate    ...  53.4  53.91  54.05  54.1  55.1  57.04  58.4  61.65  128.0  \\\n",
       "Department     ...                                                              \n",
       "All            ...    48      1     30    24    12     68    10      1      1   \n",
       "STREETS & SAN  ...     0      0      0     0     3      0     0      0      0   \n",
       "\n",
       "Hourly Rate     All  \n",
       "Department           \n",
       "All            8174  \n",
       "STREETS & SAN  1846  \n",
       "\n",
       "[2 rows x 179 columns]"
      ]
     },
     "execution_count": 64,
     "metadata": {},
     "output_type": "execute_result"
    }
   ],
   "source": [
    "# Your code here:\n",
    "data_crosstab = pd.crosstab(salaries['Department'], salaries['Hourly Rate'], margins = True)\n",
    "data_crosstab.reset_index()\n",
    "data_crosstab.sort_values(by = 'All', ascending = False).head(2)\n",
    "#Answer: Streets & San has the most hourly workers"
   ]
  },
  {
   "cell_type": "markdown",
   "metadata": {},
   "source": [
    "The workers from the department with the most hourly workers have complained that their hourly wage is less than $35/hour. Using a one sample t-test, test this one-sided hypothesis at the 95% confidence level."
   ]
  },
  {
   "cell_type": "code",
   "execution_count": 74,
   "metadata": {},
   "outputs": [],
   "source": [
    "# Your code here:\n",
    "#H0 hourly wage >= $35/hour\n",
    "#H1 hourly wage < $35/hour\n",
    "salaries_street = salaries[salaries['Department']=='STREETS & SAN']"
   ]
  },
  {
   "cell_type": "code",
   "execution_count": 75,
   "metadata": {},
   "outputs": [],
   "source": [
    "salaries_sts = np.random.normal(salaries_street['Hourly Rate'].mean(), salaries_street['Hourly Rate'].std(), 1846)\n",
    "stat_sts, pval_sts = ttest_1samp(salaries_sts, 35)"
   ]
  },
  {
   "cell_type": "code",
   "execution_count": 76,
   "metadata": {},
   "outputs": [
    {
     "name": "stdout",
     "output_type": "stream",
     "text": [
      "stat is   3.9659254834316737\n",
      "pvalue for the one-tailed test is  3.7952258952286106e-05\n"
     ]
    }
   ],
   "source": [
    "print('stat is  ', stat_sts)\n",
    "print('pvalue for the one-tailed test is ', pval_sts/2)"
   ]
  },
  {
   "cell_type": "code",
   "execution_count": 83,
   "metadata": {},
   "outputs": [
    {
     "name": "stdout",
     "output_type": "stream",
     "text": [
      "SOLUTION: p < α, reject H0. We have strong significant evidence that the hourly wage of Street & San workers is below $35/hour.\n"
     ]
    }
   ],
   "source": [
    "print(\"SOLUTION: p < α, reject H0. We have strong significant evidence that the hourly wage of Street & San workers is below $35/hour.\")"
   ]
  },
  {
   "cell_type": "markdown",
   "metadata": {},
   "source": [
    "# Challenge 3: To practice - Constructing Confidence Intervals\n",
    "\n",
    "While testing our hypothesis is a great way to gather empirical evidence for accepting or rejecting the hypothesis, another way to gather evidence is by creating a confidence interval. A confidence interval gives us information about the true mean of the population. So for a 95% confidence interval, we are 95% sure that the mean of the population is within the confidence interval. \n",
    ").\n",
    "\n",
    "To read more about confidence intervals, click [here](https://en.wikipedia.org/wiki/Confidence_interval).\n",
    "\n",
    "\n",
    "In the cell below, we will construct a 95% confidence interval for the mean hourly wage of all hourly workers. \n",
    "\n",
    "The confidence interval is computed in SciPy using the `t.interval` function. You can read more about this function [here](https://docs.scipy.org/doc/scipy-0.14.0/reference/generated/scipy.stats.t.html).\n",
    "\n",
    "To compute the confidence interval of the hourly wage, use the 0.95 for the confidence level, number of rows - 1 for degrees of freedom, the mean of the sample for the location parameter and the standard error for the scale. The standard error can be computed using [this](https://docs.scipy.org/doc/scipy/reference/generated/scipy.stats.sem.html) function in SciPy."
   ]
  },
  {
   "cell_type": "code",
   "execution_count": 90,
   "metadata": {},
   "outputs": [
    {
     "name": "stdout",
     "output_type": "stream",
     "text": [
      "confidence interval is  (34.24685251096104, 34.823105132682166) .\n",
      "\n",
      "\n",
      "SOLUTION: There is a 95% chance that the wages are between 34.24 and 34.82 dollars per hour.\n"
     ]
    }
   ],
   "source": [
    "# Your code here:\n",
    "hourly_workers\n",
    "confidence_level = 0.95 \n",
    "degrees_freedom = len(hourly_workers) - 1  \n",
    "sample_mean = np.mean(hourly_workers)\n",
    "# note that we use the standard error of the sample \n",
    "# as an estimate of the standard error of the population (which is used in the theoretical formula)\n",
    "sample_standard_error = scipy.stats.sem(hourly_workers) # sem = standard error of the mean = std(patients)/sqrt(samplesize)\n",
    "\n",
    "confidence_interval = scipy.stats.t.interval(confidence_level, \n",
    "                                             degrees_freedom, #df = number of sample -1\n",
    "                                             sample_mean, \n",
    "                                             sample_standard_error)\n",
    "\n",
    "\n",
    "\n",
    "print( 'confidence interval is ', confidence_interval, '.' )\n",
    "print('\\n')\n",
    "print('''SOLUTION: There is a 95% chance that the wages are between 34.24 and 34.82 dollars per hour.''')"
   ]
  },
  {
   "cell_type": "markdown",
   "metadata": {},
   "source": [
    "Now construct the 95% confidence interval for all salaried employeed in the police in the cell below."
   ]
  },
  {
   "cell_type": "code",
   "execution_count": 92,
   "metadata": {},
   "outputs": [
    {
     "name": "stdout",
     "output_type": "stream",
     "text": [
      "confidence interval is  (88601.62558480405, 89204.79659846623) .\n",
      "\n",
      "\n",
      "SOLUTION: There is a 95% chance that the wages are between 88601 and 89204 dollars per hour.\n"
     ]
    }
   ],
   "source": [
    "# Your code here:\n",
    "\n",
    "salaries_police\n",
    "confidence_level = 0.95\n",
    "degrees_freedom = len(salaries_police) -1\n",
    "sample_mean = np.mean(salaries_police)\n",
    "sample_standard_error = scipy.stats.sem(salaries_police)\n",
    "confidence_interval = scipy.stats.t.interval(confidence_level,\n",
    "                                            degrees_freedom,\n",
    "                                            sample_mean,\n",
    "                                            sample_standard_error)\n",
    "\n",
    "print( 'confidence interval is ', confidence_interval, '.' )\n",
    "print('\\n')\n",
    "print('''SOLUTION: There is a 95% chance that the wages are between 88601 and 89204 dollars per hour.''')"
   ]
  },
  {
   "cell_type": "markdown",
   "metadata": {},
   "source": [
    "# Bonus Challenge - Hypothesis Tests of Proportions\n",
    "\n",
    "Another type of one sample test is a hypothesis test of proportions. In this test, we examine whether the proportion of a group in our sample is significantly different than a fraction. \n",
    "\n",
    "You can read more about one sample proportion tests [here](http://sphweb.bumc.bu.edu/otlt/MPH-Modules/BS/SAS/SAS6-CategoricalData/SAS6-CategoricalData2.html).\n",
    "\n",
    "In the cell below, use the `proportions_ztest` function from `statsmodels` to perform a hypothesis test that will determine whether the number of hourly workers in the City of Chicago is significantly different from 25% at the 95% confidence level."
   ]
  },
  {
   "cell_type": "code",
   "execution_count": null,
   "metadata": {},
   "outputs": [],
   "source": [
    "# Your code here:\n",
    "\n"
   ]
  }
 ],
 "metadata": {
  "kernelspec": {
   "display_name": "Python 3 (ipykernel)",
   "language": "python",
   "name": "python3"
  },
  "language_info": {
   "codemirror_mode": {
    "name": "ipython",
    "version": 3
   },
   "file_extension": ".py",
   "mimetype": "text/x-python",
   "name": "python",
   "nbconvert_exporter": "python",
   "pygments_lexer": "ipython3",
   "version": "3.9.13"
  }
 },
 "nbformat": 4,
 "nbformat_minor": 2
}
